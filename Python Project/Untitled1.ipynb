{
 "cells": [
  {
   "cell_type": "markdown",
   "id": "e29f82c2-f148-42e2-b118-a4dd88318607",
   "metadata": {},
   "source": [
    "# Stock Data Analysis \n",
    "\n",
    "***"
   ]
  },
  {
   "cell_type": "markdown",
   "id": "40d810c4-1a0e-42c3-8700-db335e896d3a",
   "metadata": {},
   "source": [
    "In this project, I will be working on stock data available from yahoo finance using web scraping as well as yfinance API package available for Python. I will also carry out Time Series analysis on the selected Stock and its properties like Revenue, stock price, etc.\n"
   ]
  },
  {
   "cell_type": "code",
   "execution_count": null,
   "id": "71b0f503-8a72-413b-a50d-676df5a5fe0f",
   "metadata": {},
   "outputs": [],
   "source": []
  }
 ],
 "metadata": {
  "kernelspec": {
   "display_name": "Python 3 (ipykernel)",
   "language": "python",
   "name": "python3"
  },
  "language_info": {
   "codemirror_mode": {
    "name": "ipython",
    "version": 3
   },
   "file_extension": ".py",
   "mimetype": "text/x-python",
   "name": "python",
   "nbconvert_exporter": "python",
   "pygments_lexer": "ipython3",
   "version": "3.9.7"
  }
 },
 "nbformat": 4,
 "nbformat_minor": 5
}
