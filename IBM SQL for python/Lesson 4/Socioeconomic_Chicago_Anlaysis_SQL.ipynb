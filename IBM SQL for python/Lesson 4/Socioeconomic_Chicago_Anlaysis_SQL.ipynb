{
 "cells": [
  {
   "cell_type": "markdown",
   "id": "bdd77f41",
   "metadata": {},
   "source": [
    "### Data Analysis Socioeconomic Data of Chicago\n",
    "\n",
    "**Abstract**:\n",
    "\n",
    "The city of Chicago released a dataset of socioeconomic data to the Chicago City Portal. This dataset contains a selection of six socioeconomic indicators of public health significance and a “hardship index,” for each Chicago community area, for the years 2008 – 2012.\n",
    "\n",
    "Scores on the hardship index can range from 1 to 100, with a higher index number representing a greater level of hardship.\n",
    "\n",
    "A detailed description of the dataset can be found on the city of Chicago's website, but to summarize, the dataset has the following variables:\n",
    "\n",
    "**Community Area Number (ca)**: Used to uniquely identify each row of the dataset\n",
    "\n",
    "**Community Area Name (community_area_name)**: The name of the region in the city of Chicago\n",
    "\n",
    "**Percent of Housing Crowded (percent_of_housing_crowded)**: Percent of occupied housing units with more than one person per room\n",
    "\n",
    "**Percent Households Below Poverty (percent_households_below_poverty)**: Percent of households living below the federal poverty line\n",
    "\n",
    "**Percent Aged 16+ Unemployed (percent_aged_16_unemployed)**: Percent of persons over the age of 16 years that are unemployed\n",
    "\n",
    "**Percent Aged 25+ without High School Diploma (percent_aged_25_without_high_school_diploma)**: Percent of persons over the age of 25 years without a high school education\n",
    "\n",
    "**Percent Aged Under 18 or Over 64:Percent of population under 18 or over 64 years of age (percent_aged_under_18_or_over_64)**: (ie. dependents)\n",
    "\n",
    "**Per Capita Income (per_capita_income_)**: Community Area per capita income is estimated as the sum of tract-level aggragate incomes divided by the total population\n",
    "\n",
    "**Hardship Index (hardship_index)**: Score that incorporates each of the six selected socioeconomic indicators"
   ]
  },
  {
   "cell_type": "markdown",
   "id": "11fb59ba",
   "metadata": {},
   "source": [
    "### Connecting with IBM Cloud Databse \n"
   ]
  },
  {
   "cell_type": "code",
   "execution_count": 21,
   "id": "b38ede51",
   "metadata": {},
   "outputs": [
    {
     "name": "stdout",
     "output_type": "stream",
     "text": [
      "The sql extension is already loaded. To reload it, use:\n",
      "  %reload_ext sql\n"
     ]
    }
   ],
   "source": [
    "%load_ext sql"
   ]
  },
  {
   "cell_type": "code",
   "execution_count": 22,
   "id": "e6341439",
   "metadata": {},
   "outputs": [],
   "source": [
    "%sql ibm_db_sa://trc40191:ptmIhOTtWcaA8SsK@9938aec0-8105-433e-8bf9-0fbb7e483086.c1ogj3sd0tgtu0lqde00.databases.appdomain.cloud:32459/BLUDB?security=SSL"
   ]
  },
  {
   "cell_type": "markdown",
   "id": "6b75935d",
   "metadata": {},
   "source": [
    "### Importing data from web URL\n",
    "\n",
    "PERSIST is a magic command used with SQL to simplify the process of table creation from pandas dataframe to SQL table\n"
   ]
  },
  {
   "cell_type": "code",
   "execution_count": 30,
   "id": "abb9d07d",
   "metadata": {},
   "outputs": [
    {
     "name": "stdout",
     "output_type": "stream",
     "text": [
      " * ibm_db_sa://trc40191:***@9938aec0-8105-433e-8bf9-0fbb7e483086.c1ogj3sd0tgtu0lqde00.databases.appdomain.cloud:32459/BLUDB\n",
      "(ibm_db_dbi.ProgrammingError) ibm_db_dbi::ProgrammingError: Statement Execute Failed: [IBM][CLI Driver][DB2/LINUXX8664] SQL0104N  An unexpected token \"END-OF-STATEMENT\" was found following \"o_socioeconomic_data\".  Expected tokens may include:  \"JOIN <joined_table>\".  SQLSTATE=42601\\r SQLCODE=-104\n",
      "[SQL: persist chicago_socioeconomic_data]\n",
      "(Background on this error at: http://sqlalche.me/e/13/f405)\n"
     ]
    }
   ],
   "source": [
    "import pandas\n",
    "chicago_socioeconomic_data = pandas.read_csv('https://data.cityofchicago.org/resource/jcxq-k9xf.csv')\n",
    "%sql persist chicago_socioeconomic_data"
   ]
  },
  {
   "cell_type": "code",
   "execution_count": null,
   "id": "eae67b43",
   "metadata": {},
   "outputs": [],
   "source": []
  }
 ],
 "metadata": {
  "kernelspec": {
   "display_name": "Python 3 (ipykernel)",
   "language": "python",
   "name": "python3"
  },
  "language_info": {
   "codemirror_mode": {
    "name": "ipython",
    "version": 3
   },
   "file_extension": ".py",
   "mimetype": "text/x-python",
   "name": "python",
   "nbconvert_exporter": "python",
   "pygments_lexer": "ipython3",
   "version": "3.9.7"
  }
 },
 "nbformat": 4,
 "nbformat_minor": 5
}
